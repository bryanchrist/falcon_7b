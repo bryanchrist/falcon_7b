{
 "cells": [
  {
   "cell_type": "markdown",
   "id": "3a9cf7e9-4c8d-4160-b9d0-ea44f085f6aa",
   "metadata": {},
   "source": [
    "# Cleaning JSON File"
   ]
  },
  {
   "cell_type": "code",
   "execution_count": 1,
   "id": "d5691d64-eddd-4431-80c5-b9b7e8136d8c",
   "metadata": {},
   "outputs": [
    {
     "data": {
      "text/plain": [
       "str"
      ]
     },
     "execution_count": 1,
     "metadata": {},
     "output_type": "execute_result"
    }
   ],
   "source": [
    "file_path = 'ASDiv.json'\n",
    "import json\n",
    "with open(file_path, 'r') as j:\n",
    "     text = j.read()\n",
    "type(text)"
   ]
  },
  {
   "cell_type": "code",
   "execution_count": 2,
   "id": "204e2f64-4ee9-421c-a98b-59470756ee66",
   "metadata": {},
   "outputs": [],
   "source": [
    "data = json.loads(text)"
   ]
  },
  {
   "cell_type": "code",
   "execution_count": 3,
   "id": "146f8094-e015-4ba9-9a23-df312e4f8b4b",
   "metadata": {},
   "outputs": [],
   "source": [
    "data_list = [value for value in data.items()]\n",
    "problems = data_list[0][1]\n",
    "data_list = [value for value in problems.items()]\n",
    "problems = data_list[0][1]\n",
    "data_list = [value for value in problems.items()]\n",
    "problems = data_list[0][1]"
   ]
  },
  {
   "cell_type": "markdown",
   "id": "00850d1a-8db9-4863-bfd9-6284e2b905c1",
   "metadata": {},
   "source": [
    "# Extracting Grade Level from XML File"
   ]
  },
  {
   "cell_type": "code",
   "execution_count": 4,
   "id": "8810c967-9d40-411f-91e8-ddc2b8e8a3d7",
   "metadata": {},
   "outputs": [],
   "source": [
    "from bs4 import BeautifulSoup\n",
    "with open('ASDiv.xml', 'r') as f:\n",
    "    xml= f.read()"
   ]
  },
  {
   "cell_type": "code",
   "execution_count": 5,
   "id": "c834d8d2-5c94-4baa-80d9-9863784caa6f",
   "metadata": {},
   "outputs": [],
   "source": [
    "xml = BeautifulSoup(xml)"
   ]
  },
  {
   "cell_type": "code",
   "execution_count": 6,
   "id": "b310accd-d9f9-43fb-a9a2-efa050634d37",
   "metadata": {},
   "outputs": [],
   "source": [
    "xml = xml.problemset"
   ]
  },
  {
   "cell_type": "code",
   "execution_count": 7,
   "id": "e8bd6835-f42f-4a0e-9457-f0f19948a92f",
   "metadata": {},
   "outputs": [],
   "source": [
    "problem_list = xml.find_all('problem')"
   ]
  },
  {
   "cell_type": "code",
   "execution_count": 8,
   "id": "a12ec16b-69e9-4f37-a885-85cb3fab7db0",
   "metadata": {},
   "outputs": [],
   "source": [
    "grades = []\n",
    "for problem in problem_list:\n",
    "    grades.append(problem['grade'])"
   ]
  },
  {
   "cell_type": "code",
   "execution_count": 9,
   "id": "e911567a-0762-4d75-bee0-b9ff6212d111",
   "metadata": {},
   "outputs": [
    {
     "data": {
      "text/plain": [
       "2305"
      ]
     },
     "execution_count": 9,
     "metadata": {},
     "output_type": "execute_result"
    }
   ],
   "source": [
    "len(grades)"
   ]
  },
  {
   "cell_type": "markdown",
   "id": "c2e70a28-72c3-4ec1-87ec-7ae7ba8960be",
   "metadata": {},
   "source": [
    "# Combining XML and JSON Files to Format Final LLM Training Data Input"
   ]
  },
  {
   "cell_type": "code",
   "execution_count": 10,
   "id": "237c654a-c258-422f-a70e-7ee7392f1829",
   "metadata": {},
   "outputs": [],
   "source": [
    "for i in range(0,2305):\n",
    "    problems[i]['output']= 'Question: ' + problems[i]['Body'] + ' ' + problems[i]['Question'] + ' Equation: ' + problems[i]['Formula']\n",
    "    problems[i]['instruction'] = 'Write a grade {level} {topic} question and corresponding equation to solve the problem.'.format(level = grades[i], \n",
    "                                                                               topic = problems[i]['Solution-Type'])\n",
    "    problems[i]['Grade'] = grades[i]"
   ]
  },
  {
   "cell_type": "code",
   "execution_count": 11,
   "id": "1a8a1c25-4941-46b9-86c3-310e2c4b0904",
   "metadata": {},
   "outputs": [
    {
     "data": {
      "text/plain": [
       "{'Body': 'Seven red apples and two green apples are in the basket.',\n",
       " 'Question': 'How many apples are in the basket?',\n",
       " 'Solution-Type': 'Addition',\n",
       " 'Answer': '9 (apples)',\n",
       " 'Formula': '7+2=9',\n",
       " 'output': 'Question: Seven red apples and two green apples are in the basket. How many apples are in the basket? Equation: 7+2=9',\n",
       " 'instruction': 'Write a grade 1 Addition question and corresponding equation to solve the problem.',\n",
       " 'Grade': '1'}"
      ]
     },
     "execution_count": 11,
     "metadata": {},
     "output_type": "execute_result"
    }
   ],
   "source": [
    "problems[0]"
   ]
  },
  {
   "cell_type": "markdown",
   "id": "80c366f8-5fdf-4715-9e97-24be26aba6ae",
   "metadata": {},
   "source": [
    "# Save New JSON"
   ]
  },
  {
   "cell_type": "code",
   "execution_count": 12,
   "id": "5d48e165-9012-4639-b501-47a4ae257b00",
   "metadata": {},
   "outputs": [],
   "source": [
    "with open('ASDiv_clean.json', 'w') as f:\n",
    "    # write the dictionary to the file in JSON format\n",
    "    json.dump(problems, f)"
   ]
  },
  {
   "cell_type": "code",
   "execution_count": 13,
   "id": "340bcda6-59f3-4d9c-b750-b65911797432",
   "metadata": {},
   "outputs": [
    {
     "data": {
      "text/plain": [
       "2305"
      ]
     },
     "execution_count": 13,
     "metadata": {},
     "output_type": "execute_result"
    }
   ],
   "source": [
    "len(problems)"
   ]
  },
  {
   "cell_type": "code",
   "execution_count": null,
   "id": "f42cc435-c519-46e7-88ac-ee3910ae25f7",
   "metadata": {},
   "outputs": [],
   "source": []
  }
 ],
 "metadata": {
  "kernelspec": {
   "display_name": "Python 3",
   "language": "python",
   "name": "python3"
  },
  "language_info": {
   "codemirror_mode": {
    "name": "ipython",
    "version": 3
   },
   "file_extension": ".py",
   "mimetype": "text/x-python",
   "name": "python",
   "nbconvert_exporter": "python",
   "pygments_lexer": "ipython3",
   "version": "3.8.8"
  }
 },
 "nbformat": 4,
 "nbformat_minor": 5
}
